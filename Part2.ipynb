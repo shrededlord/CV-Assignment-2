{
 "cells": [
  {
   "cell_type": "code",
   "execution_count": 10,
   "metadata": {},
   "outputs": [],
   "source": [
    "import cv2\n",
    "import numpy as np\n",
    "import matplotlib.pyplot as plt"
   ]
  },
  {
   "cell_type": "code",
   "execution_count": 11,
   "metadata": {},
   "outputs": [],
   "source": [
    "# Load the two images (both should be in grayscale for SIFT)\n",
    "pano_img1 = cv2.imread('pano_image1.jpg', cv2.IMREAD_GRAYSCALE)\n",
    "pano_img2 = cv2.imread('pano_image2.jpg', cv2.IMREAD_GRAYSCALE)\n",
    "\n",
    "# Check if images loaded properly\n",
    "if pano_img1 is None or pano_img2 is None:\n",
    "    raise ValueError(\"Error: One or both images could not be loaded. Check the file paths.\")\n",
    "\n",
    "# Initialize SIFT detector\n",
    "sift = cv2.SIFT_create()\n",
    "\n",
    "# Detect keypoints and compute descriptors\n",
    "keypoints1, descriptors1 = sift.detectAndCompute(pano_img1, None)\n",
    "keypoints2, descriptors2 = sift.detectAndCompute(pano_img2, None)\n",
    "\n",
    "# You can visualize keypoints if you want (optional)\n",
    "img1_kp = cv2.drawKeypoints(pano_img1, keypoints1, None)\n",
    "img2_kp = cv2.drawKeypoints(pano_img2, keypoints2, None)\n",
    "cv2.imshow(\"Keypoints 1\", img1_kp)\n",
    "cv2.imshow(\"Keypoints 2\", img2_kp)\n",
    "cv2.waitKey(0)\n",
    "cv2.destroyAllWindows()\n"
   ]
  }
 ],
 "metadata": {
  "kernelspec": {
   "display_name": "Python 3",
   "language": "python",
   "name": "python3"
  },
  "language_info": {
   "codemirror_mode": {
    "name": "ipython",
    "version": 3
   },
   "file_extension": ".py",
   "mimetype": "text/x-python",
   "name": "python",
   "nbconvert_exporter": "python",
   "pygments_lexer": "ipython3",
   "version": "3.11.9"
  }
 },
 "nbformat": 4,
 "nbformat_minor": 2
}
